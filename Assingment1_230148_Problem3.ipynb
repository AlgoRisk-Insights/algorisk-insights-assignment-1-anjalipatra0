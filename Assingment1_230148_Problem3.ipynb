{
  "nbformat": 4,
  "nbformat_minor": 0,
  "metadata": {
    "colab": {
      "provenance": []
    },
    "kernelspec": {
      "name": "python3",
      "display_name": "Python 3"
    },
    "language_info": {
      "name": "python"
    }
  },
  "cells": [
    {
      "cell_type": "code",
      "execution_count": null,
      "metadata": {
        "id": "bCW1fVwrCSoy"
      },
      "outputs": [],
      "source": [
        "#a) highly unrelated stocks\n"
      ]
    },
    {
      "cell_type": "code",
      "source": [
        "import yfinance as yf"
      ],
      "metadata": {
        "id": "rwNGPA54DI8p"
      },
      "execution_count": null,
      "outputs": []
    },
    {
      "cell_type": "code",
      "source": [
        "df3 = yf.download('WIPRO.NS',start = '2023-04-01',end = '2024-03-31')"
      ],
      "metadata": {
        "id": "ZEUtfow3J7__",
        "colab": {
          "base_uri": "https://localhost:8080/"
        },
        "outputId": "66bd6206-0255-44a5-8180-d0b30c78dc3a"
      },
      "execution_count": null,
      "outputs": [
        {
          "output_type": "stream",
          "name": "stderr",
          "text": [
            "\r[*********************100%%**********************]  1 of 1 completed\n"
          ]
        }
      ]
    },
    {
      "cell_type": "code",
      "source": [
        "df1 = yf.download('PNB.NS', start= '2023-04-01',end = '2024-03-31')"
      ],
      "metadata": {
        "colab": {
          "base_uri": "https://localhost:8080/"
        },
        "id": "km8Z_y0sN3uf",
        "outputId": "6c96ea59-13f2-481b-8e2a-3809f31b4282"
      },
      "execution_count": null,
      "outputs": [
        {
          "output_type": "stream",
          "name": "stderr",
          "text": [
            "\r[*********************100%%**********************]  1 of 1 completed\n"
          ]
        }
      ]
    },
    {
      "cell_type": "code",
      "source": [
        "df2 = yf.download('HDFCBANK',start= '2023-04-01',end = '2024-03-31')"
      ],
      "metadata": {
        "colab": {
          "base_uri": "https://localhost:8080/"
        },
        "id": "wicVNV2ZOVwK",
        "outputId": "c3c51a5f-3062-49e1-94e2-03af2d07c798"
      },
      "execution_count": null,
      "outputs": [
        {
          "output_type": "stream",
          "name": "stderr",
          "text": [
            "\r[*********************100%%**********************]  1 of 1 completed\n",
            "ERROR:yfinance:\n",
            "1 Failed download:\n",
            "ERROR:yfinance:['HDFCBANK']: Exception('%ticker%: No timezone found, symbol may be delisted')\n"
          ]
        }
      ]
    },
    {
      "cell_type": "code",
      "source": [
        "df2['Daily_Return'] = ((df2['Close'] - df2['Open'])/df2['Open'])"
      ],
      "metadata": {
        "id": "FiWlmhK4O8Jl"
      },
      "execution_count": null,
      "outputs": []
    },
    {
      "cell_type": "code",
      "source": [
        "df1['Daily_Return'] = ((df1['Close'] - df1['Open'])/df1['Open'])"
      ],
      "metadata": {
        "id": "9MiaYA4RPp2k"
      },
      "execution_count": null,
      "outputs": []
    },
    {
      "cell_type": "code",
      "source": [
        "df3['Daily_Return'] = ((df3['Close'] - df3['Open'])/df3['Open'])"
      ],
      "metadata": {
        "id": "GrOOtO9tPv78"
      },
      "execution_count": null,
      "outputs": []
    },
    {
      "cell_type": "code",
      "source": [
        "std_df1 = df1['Daily_Return'].std()"
      ],
      "metadata": {
        "id": "hZUsIHgJRAwU"
      },
      "execution_count": null,
      "outputs": []
    },
    {
      "cell_type": "code",
      "source": [
        "std_df2 = df2['Daily_Return'].std()"
      ],
      "metadata": {
        "id": "wI837VNDzssA"
      },
      "execution_count": null,
      "outputs": []
    },
    {
      "cell_type": "code",
      "source": [
        "std_df3 = df3['Daily_Return'].std()"
      ],
      "metadata": {
        "id": "AurTrBxHzz4v"
      },
      "execution_count": null,
      "outputs": []
    },
    {
      "cell_type": "code",
      "source": [
        "mean_df1"
      ],
      "metadata": {
        "id": "syi7_QXXz38o"
      },
      "execution_count": null,
      "outputs": []
    }
  ]
}