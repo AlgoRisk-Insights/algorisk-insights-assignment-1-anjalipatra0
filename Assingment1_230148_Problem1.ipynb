{
  "nbformat": 4,
  "nbformat_minor": 0,
  "metadata": {
    "colab": {
      "provenance": []
    },
    "kernelspec": {
      "name": "python3",
      "display_name": "Python 3"
    },
    "language_info": {
      "name": "python"
    }
  },
  "cells": [
    {
      "cell_type": "code",
      "execution_count": null,
      "metadata": {
        "id": "w9UjSs9MUKD6",
        "colab": {
          "base_uri": "https://localhost:8080/"
        },
        "outputId": "1d9e3a6f-c319-4716-dee5-ad3c2254908c"
      },
      "outputs": [
        {
          "output_type": "stream",
          "name": "stderr",
          "text": [
            "\r[*********************100%%**********************]  1 of 1 completed\n"
          ]
        }
      ],
      "source": [
        "import yfinance as yf\n",
        "import pandas as pd\n",
        "import math as math\n",
        "df = yf.download('RELIANCE.NS',start= '2023-04-01',end = '2024-03-31')"
      ]
    },
    {
      "cell_type": "code",
      "source": [
        "def capitalnew(openg,closeg,capital):\n",
        "  return (closeg*capital)/openg\n",
        "\n",
        "Capitals = []\n",
        "count = 0\n",
        "for index, row in df.iterrows():\n",
        "  if (count==0):\n",
        "    capital = 100000\n",
        "  capital = capitalnew(row['Open'], row['Close'] ,capital)\n",
        "  Capitals.append(capital)\n",
        "  count = count +1\n",
        "print(f\"final capital is {capital}\")\n",
        "df.loc[:, \"Capital\"] = Capitals"
      ],
      "metadata": {
        "colab": {
          "base_uri": "https://localhost:8080/"
        },
        "id": "ky8yXVCeUvsi",
        "outputId": "dcf5ec57-d3b6-4973-80dd-dc8a9b3b0263"
      },
      "execution_count": null,
      "outputs": [
        {
          "output_type": "stream",
          "name": "stdout",
          "text": [
            "final capital is 100408.51019894434\n"
          ]
        }
      ]
    },
    {
      "cell_type": "code",
      "source": [
        "#part b\n",
        "df['Daily_Return'] = ((df['Close'] - df['Open'])/df['Open'])*100\n",
        "\n",
        "for index,row in df.iterrows():\n",
        "  print(\"The daily return is \",row['Daily_Return'])"
      ],
      "metadata": {
        "id": "ev-L0LoMVBCe",
        "colab": {
          "base_uri": "https://localhost:8080/"
        },
        "outputId": "5f808609-5983-44de-8007-341214314d49"
      },
      "execution_count": null,
      "outputs": [
        {
          "output_type": "stream",
          "name": "stdout",
          "text": [
            "The daily return is  -0.5778339303840282\n",
            "The daily return is  -0.9433511654566298\n",
            "The daily return is  1.0051103301649598\n",
            "The daily return is  -1.0702210812493682\n",
            "The daily return is  0.10068069396695534\n",
            "The daily return is  0.44086712963696756\n",
            "The daily return is  0.10625278292473264\n",
            "The daily return is  -2.3711842188219574\n",
            "The daily return is  -1.5418568871402911\n",
            "The daily return is  0.5536451993593144\n",
            "The daily return is  -0.3419578994252312\n",
            "The daily return is  -0.07019334000458878\n",
            "The daily return is  -0.7157859707508937\n",
            "The daily return is  0.42476647346565055\n",
            "The daily return is  -0.7103797249363274\n",
            "The daily return is  0.08631307411419677\n",
            "The daily return is  1.6162848866874948\n",
            "The daily return is  0.19908116053372338\n",
            "The daily return is  -1.0184037942862632\n",
            "The daily return is  1.108973961196563\n",
            "The daily return is  0.030720181837469978\n",
            "The daily return is  0.8938852917024651\n",
            "The daily return is  0.1838302481927438\n",
            "The daily return is  0.26506018720991115\n",
            "The daily return is  -0.7463101268509169\n",
            "The daily return is  0.5891184022176761\n",
            "The daily return is  -0.02611189894163948\n",
            "The daily return is  -1.6118643738838094\n",
            "The daily return is  -0.962237132602076\n",
            "The daily return is  -0.6327649329943412\n",
            "The daily return is  0.32455331809202725\n",
            "The daily return is  0.8213538085921481\n",
            "The daily return is  -0.24790518932573702\n",
            "The daily return is  -0.2310049998994267\n",
            "The daily return is  0.24856495362392206\n",
            "The daily return is  1.9731551467485717\n",
            "The daily return is  -0.01586417413071513\n",
            "The daily return is  -0.025783373281646257\n",
            "The daily return is  -1.2040077799151183\n",
            "The daily return is  -0.6814183415681293\n",
            "The daily return is  -0.6394216837961614\n",
            "The daily return is  0.40734330791069384\n",
            "The daily return is  -0.1650983688481393\n",
            "The daily return is  0.4483338188492708\n",
            "The daily return is  -0.2533934263578983\n",
            "The daily return is  -0.9992001461070664\n",
            "The daily return is  0.3494217050479907\n",
            "The daily return is  1.0360648702469963\n",
            "The daily return is  1.223723781225904\n",
            "The daily return is  0.02939666760371136\n",
            "The daily return is  0.6718283676730988\n",
            "The daily return is  -1.2461347466621244\n",
            "The daily return is  0.3748617136757971\n",
            "The daily return is  0.2854967269614155\n",
            "The daily return is  -0.8020402285736521\n",
            "The daily return is  -0.5595257121388473\n",
            "The daily return is  -0.456721742742468\n",
            "The daily return is  -0.0040048846879273065\n",
            "The daily return is  0.6565856179541116\n",
            "The daily return is  0.15119035265318553\n",
            "The daily return is  2.253670025822613\n",
            "The daily return is  -1.3809523953473632\n",
            "The daily return is  -0.9390584758936467\n",
            "The daily return is  2.433958528937989\n",
            "The daily return is  -0.05313243990929842\n",
            "The daily return is  1.7163152897009377\n",
            "The daily return is  0.4286373691921467\n",
            "The daily return is  0.052417737045398996\n",
            "The daily return is  -1.4691637328903429\n",
            "The daily return is  -0.338175653969137\n",
            "The daily return is  1.809244908706293\n",
            "The daily return is  0.12246984005305556\n",
            "The daily return is  0.41872614347520454\n",
            "The daily return is  1.5445774285368217\n",
            "The daily return is  -2.6926025297048675\n",
            "The daily return is  0.25795656363361547\n",
            "The daily return is  -0.32878713600140336\n",
            "The daily return is  1.657945721202213\n",
            "The daily return is  -1.237153846694855\n",
            "The daily return is  0.628970303975263\n",
            "The daily return is  0.8465653229830113\n",
            "The daily return is  -1.636009738869863\n",
            "The daily return is  -0.9106429921997011\n",
            "The daily return is  0.02423356780156762\n",
            "The daily return is  0.4302064907130717\n",
            "The daily return is  0.11305425054541848\n",
            "The daily return is  -0.7654310781744462\n",
            "The daily return is  0.812418017935127\n",
            "The daily return is  0.4554545722643984\n",
            "The daily return is  0.5804636401628664\n",
            "The daily return is  1.5064986215045293\n",
            "The daily return is  0.9466837453449627\n",
            "The daily return is  -1.133578612022891\n",
            "The daily return is  1.0093846450617283\n",
            "The daily return is  -0.7854466251459226\n",
            "The daily return is  0.09932854292981565\n",
            "The daily return is  -0.07923302585722213\n",
            "The daily return is  -2.3662292147878152\n",
            "The daily return is  0.502854139098127\n",
            "The daily return is  -1.1427993527508091\n",
            "The daily return is  -1.2927938068403182\n",
            "The daily return is  -0.5735999659488076\n",
            "The daily return is  -0.6603384234420141\n",
            "The daily return is  0.25346879939585454\n",
            "The daily return is  -0.08082196965173999\n",
            "The daily return is  0.1487643659607438\n",
            "The daily return is  0.31390083883694236\n",
            "The daily return is  0.4253230803073165\n",
            "The daily return is  0.3360635726178279\n",
            "The daily return is  0.9217005569433115\n",
            "The daily return is  -1.7780870859343534\n",
            "The daily return is  0.45287085361168034\n",
            "The daily return is  -0.2723557386941057\n",
            "The daily return is  -0.41126022462520256\n",
            "The daily return is  -0.14754195955853477\n",
            "The daily return is  -1.6879612744340875\n",
            "The daily return is  -0.4273733153299386\n",
            "The daily return is  -0.8859448159985269\n",
            "The daily return is  -0.4233301389245804\n",
            "The daily return is  0.16890599257665523\n",
            "The daily return is  1.0838447767761894\n",
            "The daily return is  -2.0520311516470833\n",
            "The daily return is  0.136644935739766\n",
            "The daily return is  -0.5064507425230328\n",
            "The daily return is  0.2230360478020788\n",
            "The daily return is  -0.22205033281233158\n",
            "The daily return is  0.04099830179997401\n",
            "The daily return is  -0.4267621523976468\n",
            "The daily return is  0.08020001632155539\n",
            "The daily return is  1.3221326147388177\n",
            "The daily return is  0.2367815541211261\n",
            "The daily return is  0.397437984107906\n",
            "The daily return is  -0.04050964485607676\n",
            "The daily return is  -0.03183361629881155\n",
            "The daily return is  -1.3268230548774014\n",
            "The daily return is  -0.25303190554714533\n",
            "The daily return is  -0.03912618885869565\n",
            "The daily return is  -1.170307809088428\n",
            "The daily return is  0.3510989610148646\n",
            "The daily return is  -1.0884051532652155\n",
            "The daily return is  1.1517878941127233\n",
            "The daily return is  1.693051890941073\n",
            "The daily return is  -1.7225127859213918\n",
            "The daily return is  0.36039579546770717\n",
            "The daily return is  0.2701009153994344\n",
            "The daily return is  -0.32227570287732826\n",
            "The daily return is  0.2872679771730666\n",
            "The daily return is  -0.43915082305738473\n",
            "The daily return is  0.1672342342945969\n",
            "The daily return is  -1.0831195397988345\n",
            "The daily return is  0.4055367837439653\n",
            "The daily return is  -0.3573035876029655\n",
            "The daily return is  0.7029893663194444\n",
            "The daily return is  0.4083132625954481\n",
            "The daily return is  0.11263320134167881\n",
            "The daily return is  0.03406564950677576\n",
            "The daily return is  0.5452198792793744\n",
            "The daily return is  0.5557874177631579\n",
            "The daily return is  0.30567159272166095\n",
            "The daily return is  0.0961617575510969\n",
            "The daily return is  0.020886420501979825\n",
            "The daily return is  -0.3031581739254568\n",
            "The daily return is  -0.7203407671828994\n",
            "The daily return is  0.6854520112752313\n",
            "The daily return is  -1.2163285235969388\n",
            "The daily return is  -0.05125051250512505\n",
            "The daily return is  0.5721057350048218\n",
            "The daily return is  -0.11991671430386179\n",
            "The daily return is  -0.3287577301863965\n",
            "The daily return is  0.13640462769747558\n",
            "The daily return is  -1.4613801289380082\n",
            "The daily return is  0.4933918733226672\n",
            "The daily return is  0.4136064524755501\n",
            "The daily return is  0.7102541427058111\n",
            "The daily return is  1.0177873597458338\n",
            "The daily return is  0.1213345462328767\n",
            "The daily return is  -1.7074792653058046\n",
            "The daily return is  1.4068084221656114\n",
            "The daily return is  0.21292197858819273\n",
            "The daily return is  0.39135704159365264\n",
            "The daily return is  0.1878426667796282\n",
            "The daily return is  0.6081550584234029\n",
            "The daily return is  -1.0014991959843913\n",
            "The daily return is  0.37588696162974733\n",
            "The daily return is  1.0328801227030948\n",
            "The daily return is  -1.0229866349377394\n",
            "The daily return is  0.33423115702279754\n",
            "The daily return is  0.1844115797078041\n",
            "The daily return is  -0.8678123503352491\n",
            "The daily return is  -0.75\n",
            "The daily return is  2.8366355318684517\n",
            "The daily return is  2.28657573629654\n",
            "The daily return is  0.7960108079664993\n",
            "The daily return is  1.3909090909090909\n",
            "The daily return is  -1.104334671886218\n",
            "The daily return is  0.15262605162743656\n",
            "The daily return is  1.2246504705361527\n",
            "The daily return is  -0.6213698276253634\n",
            "The daily return is  -3.147442961773282\n",
            "The daily return is  0.647832730230844\n",
            "The daily return is  0.7539372551571857\n",
            "The daily return is  6.123125601181751\n",
            "The daily return is  -3.5840236255958446\n",
            "The daily return is  1.6114672364672364\n",
            "The daily return is  -0.581879831772648\n",
            "The daily return is  1.71122867118036\n",
            "The daily return is  -1.4872480291588224\n",
            "The daily return is  -0.9744374932005603\n",
            "The daily return is  0.43351674873404955\n",
            "The daily return is  0.008620689655172414\n",
            "The daily return is  0.4642365887207703\n",
            "The daily return is  -0.5750487362014376\n",
            "The daily return is  0.6595654816858468\n",
            "The daily return is  1.6380789022298459\n",
            "The daily return is  -0.8595409181817412\n",
            "The daily return is  -1.0768908838263642\n",
            "The daily return is  0.8173421410199486\n",
            "The daily return is  -0.2711818398870186\n",
            "The daily return is  -0.4274117251102443\n",
            "The daily return is  0.9263341865464492\n",
            "The daily return is  0.27693856998992955\n",
            "The daily return is  -0.4167987313939938\n",
            "The daily return is  0.17700308199702344\n",
            "The daily return is  -1.8459204315576534\n",
            "The daily return is  -0.28668608681740615\n",
            "The daily return is  1.9559275708916979\n",
            "The daily return is  1.1355473325858023\n",
            "The daily return is  -0.37024609598348934\n",
            "The daily return is  0.6394622612315399\n",
            "The daily return is  -1.600154836140009\n",
            "The daily return is  -1.5043669854978172\n",
            "The daily return is  0.6017369009338555\n",
            "The daily return is  -3.2167035394306223\n",
            "The daily return is  -0.5712978999021708\n",
            "The daily return is  -0.5417424068487787\n",
            "The daily return is  1.3714771539392605\n",
            "The daily return is  -0.24496937882764655\n",
            "The daily return is  1.1064847766659036\n",
            "The daily return is  -0.10671408767985102\n",
            "The daily return is  0.3482852403079761\n",
            "The daily return is  -0.23702760056228375\n",
            "The daily return is  3.097374004553695\n",
            "The daily return is  -0.4705701692413966\n"
          ]
        }
      ]
    },
    {
      "cell_type": "code",
      "source": [
        "# sharpe ratio\n",
        "avg_da = df['Daily_Return'].mean()\n",
        "std_dev = df['Daily_Return'].std()\n",
        "risk_free_rate = 2.5\n",
        "sharpe_ratio = ((avg_da - risk_free_rate)/std_dev)*math.sqrt(365)\n",
        "print(sharpe_ratio)"
      ],
      "metadata": {
        "id": "SHS2isQeao7J",
        "colab": {
          "base_uri": "https://localhost:8080/"
        },
        "outputId": "1667daa3-e3a0-40ce-e55f-5d19bd166a8f"
      },
      "execution_count": null,
      "outputs": [
        {
          "output_type": "stream",
          "name": "stdout",
          "text": [
            "-44.03565751426953\n"
          ]
        }
      ]
    },
    {
      "cell_type": "code",
      "source": [
        "#drawdown\n",
        "df.loc[:, \"Drawdown\"] = ((df['Capital'].cummax()- df['Capital'])  / df['Capital'].cummax() )\n",
        "df['Drawdown'].max()"
      ],
      "metadata": {
        "id": "Z0efkweAwxQg",
        "colab": {
          "base_uri": "https://localhost:8080/"
        },
        "outputId": "70c97343-df05-4c7d-c24c-0641a649d2bc"
      },
      "execution_count": null,
      "outputs": [
        {
          "output_type": "execute_result",
          "data": {
            "text/plain": [
              "0.12166136865756119"
            ]
          },
          "metadata": {},
          "execution_count": 91
        }
      ]
    },
    {
      "cell_type": "code",
      "source": [
        "# part c\n",
        "!pip install nsepy"
      ],
      "metadata": {
        "id": "-oMdxUvc_ZK6",
        "colab": {
          "base_uri": "https://localhost:8080/"
        },
        "outputId": "f9bf387e-9e8f-470f-ce29-d84435a74526"
      },
      "execution_count": null,
      "outputs": [
        {
          "output_type": "stream",
          "name": "stdout",
          "text": [
            "Collecting nsepy\n",
            "  Downloading nsepy-0.8.tar.gz (33 kB)\n",
            "  Preparing metadata (setup.py) ... \u001b[?25l\u001b[?25hdone\n",
            "Requirement already satisfied: beautifulsoup4 in /usr/local/lib/python3.10/dist-packages (from nsepy) (4.12.3)\n",
            "Requirement already satisfied: requests in /usr/local/lib/python3.10/dist-packages (from nsepy) (2.31.0)\n",
            "Requirement already satisfied: numpy in /usr/local/lib/python3.10/dist-packages (from nsepy) (1.25.2)\n",
            "Requirement already satisfied: pandas in /usr/local/lib/python3.10/dist-packages (from nsepy) (2.0.3)\n",
            "Requirement already satisfied: six in /usr/local/lib/python3.10/dist-packages (from nsepy) (1.16.0)\n",
            "Requirement already satisfied: click in /usr/local/lib/python3.10/dist-packages (from nsepy) (8.1.7)\n",
            "Requirement already satisfied: lxml in /usr/local/lib/python3.10/dist-packages (from nsepy) (4.9.4)\n",
            "Requirement already satisfied: soupsieve>1.2 in /usr/local/lib/python3.10/dist-packages (from beautifulsoup4->nsepy) (2.5)\n",
            "Requirement already satisfied: python-dateutil>=2.8.2 in /usr/local/lib/python3.10/dist-packages (from pandas->nsepy) (2.8.2)\n",
            "Requirement already satisfied: pytz>=2020.1 in /usr/local/lib/python3.10/dist-packages (from pandas->nsepy) (2023.4)\n",
            "Requirement already satisfied: tzdata>=2022.1 in /usr/local/lib/python3.10/dist-packages (from pandas->nsepy) (2024.1)\n",
            "Requirement already satisfied: charset-normalizer<4,>=2 in /usr/local/lib/python3.10/dist-packages (from requests->nsepy) (3.3.2)\n",
            "Requirement already satisfied: idna<4,>=2.5 in /usr/local/lib/python3.10/dist-packages (from requests->nsepy) (3.7)\n",
            "Requirement already satisfied: urllib3<3,>=1.21.1 in /usr/local/lib/python3.10/dist-packages (from requests->nsepy) (2.0.7)\n",
            "Requirement already satisfied: certifi>=2017.4.17 in /usr/local/lib/python3.10/dist-packages (from requests->nsepy) (2024.2.2)\n",
            "Building wheels for collected packages: nsepy\n",
            "  Building wheel for nsepy (setup.py) ... \u001b[?25l\u001b[?25hdone\n",
            "  Created wheel for nsepy: filename=nsepy-0.8-py3-none-any.whl size=36058 sha256=d3cc0067a92e8adcaac139c749a49d659ee8cc90c1f857d9549f2f4ad7455d37\n",
            "  Stored in directory: /root/.cache/pip/wheels/4c/87/cb/acaf83f625e5fc73e1fe6e2a8e97680c74cd72391850ef5a86\n",
            "Successfully built nsepy\n",
            "Installing collected packages: nsepy\n",
            "Successfully installed nsepy-0.8\n"
          ]
        }
      ]
    },
    {
      "cell_type": "code",
      "source": [
        "import nsepy\n",
        "from datetime import date, timedelta\n",
        "from dateutil.relativedelta import relativedelta\n",
        "import time"
      ],
      "metadata": {
        "id": "RFKPxfkZe4jh"
      },
      "execution_count": null,
      "outputs": []
    },
    {
      "cell_type": "code",
      "source": [
        "end_date = date(2024,3,31)\n",
        "start_date = date(2023,4,1)"
      ],
      "metadata": {
        "id": "Zj7_tDStf5re"
      },
      "execution_count": null,
      "outputs": []
    },
    {
      "cell_type": "code",
      "source": [
        "nifty50_data = nsepy.get_history('NIFTY 50', start=start_date, end=end_date, index=True)"
      ],
      "metadata": {
        "id": "7I_kMYo9ghqo"
      },
      "execution_count": null,
      "outputs": []
    },
    {
      "cell_type": "code",
      "source": [],
      "metadata": {
        "id": "oa-rmwHIg6p6"
      },
      "execution_count": null,
      "outputs": []
    },
    {
      "cell_type": "code",
      "source": [
        "df1"
      ],
      "metadata": {
        "colab": {
          "base_uri": "https://localhost:8080/",
          "height": 89
        },
        "id": "4QiKUu1lh26u",
        "outputId": "e434bfbe-505d-4649-e7eb-4f88bda0321f"
      },
      "execution_count": null,
      "outputs": [
        {
          "output_type": "execute_result",
          "data": {
            "text/plain": [
              "Empty DataFrame\n",
              "Columns: [Open, High, Low, Close, Volume, Turnover]\n",
              "Index: []"
            ],
            "text/html": [
              "\n",
              "  <div id=\"df-1c6f1580-8122-48c1-9d59-4926a3dc060b\" class=\"colab-df-container\">\n",
              "    <div>\n",
              "<style scoped>\n",
              "    .dataframe tbody tr th:only-of-type {\n",
              "        vertical-align: middle;\n",
              "    }\n",
              "\n",
              "    .dataframe tbody tr th {\n",
              "        vertical-align: top;\n",
              "    }\n",
              "\n",
              "    .dataframe thead th {\n",
              "        text-align: right;\n",
              "    }\n",
              "</style>\n",
              "<table border=\"1\" class=\"dataframe\">\n",
              "  <thead>\n",
              "    <tr style=\"text-align: right;\">\n",
              "      <th></th>\n",
              "      <th>Open</th>\n",
              "      <th>High</th>\n",
              "      <th>Low</th>\n",
              "      <th>Close</th>\n",
              "      <th>Volume</th>\n",
              "      <th>Turnover</th>\n",
              "    </tr>\n",
              "    <tr>\n",
              "      <th>Date</th>\n",
              "      <th></th>\n",
              "      <th></th>\n",
              "      <th></th>\n",
              "      <th></th>\n",
              "      <th></th>\n",
              "      <th></th>\n",
              "    </tr>\n",
              "  </thead>\n",
              "  <tbody>\n",
              "  </tbody>\n",
              "</table>\n",
              "</div>\n",
              "    <div class=\"colab-df-buttons\">\n",
              "\n",
              "  <div class=\"colab-df-container\">\n",
              "    <button class=\"colab-df-convert\" onclick=\"convertToInteractive('df-1c6f1580-8122-48c1-9d59-4926a3dc060b')\"\n",
              "            title=\"Convert this dataframe to an interactive table.\"\n",
              "            style=\"display:none;\">\n",
              "\n",
              "  <svg xmlns=\"http://www.w3.org/2000/svg\" height=\"24px\" viewBox=\"0 -960 960 960\">\n",
              "    <path d=\"M120-120v-720h720v720H120Zm60-500h600v-160H180v160Zm220 220h160v-160H400v160Zm0 220h160v-160H400v160ZM180-400h160v-160H180v160Zm440 0h160v-160H620v160ZM180-180h160v-160H180v160Zm440 0h160v-160H620v160Z\"/>\n",
              "  </svg>\n",
              "    </button>\n",
              "\n",
              "  <style>\n",
              "    .colab-df-container {\n",
              "      display:flex;\n",
              "      gap: 12px;\n",
              "    }\n",
              "\n",
              "    .colab-df-convert {\n",
              "      background-color: #E8F0FE;\n",
              "      border: none;\n",
              "      border-radius: 50%;\n",
              "      cursor: pointer;\n",
              "      display: none;\n",
              "      fill: #1967D2;\n",
              "      height: 32px;\n",
              "      padding: 0 0 0 0;\n",
              "      width: 32px;\n",
              "    }\n",
              "\n",
              "    .colab-df-convert:hover {\n",
              "      background-color: #E2EBFA;\n",
              "      box-shadow: 0px 1px 2px rgba(60, 64, 67, 0.3), 0px 1px 3px 1px rgba(60, 64, 67, 0.15);\n",
              "      fill: #174EA6;\n",
              "    }\n",
              "\n",
              "    .colab-df-buttons div {\n",
              "      margin-bottom: 4px;\n",
              "    }\n",
              "\n",
              "    [theme=dark] .colab-df-convert {\n",
              "      background-color: #3B4455;\n",
              "      fill: #D2E3FC;\n",
              "    }\n",
              "\n",
              "    [theme=dark] .colab-df-convert:hover {\n",
              "      background-color: #434B5C;\n",
              "      box-shadow: 0px 1px 3px 1px rgba(0, 0, 0, 0.15);\n",
              "      filter: drop-shadow(0px 1px 2px rgba(0, 0, 0, 0.3));\n",
              "      fill: #FFFFFF;\n",
              "    }\n",
              "  </style>\n",
              "\n",
              "    <script>\n",
              "      const buttonEl =\n",
              "        document.querySelector('#df-1c6f1580-8122-48c1-9d59-4926a3dc060b button.colab-df-convert');\n",
              "      buttonEl.style.display =\n",
              "        google.colab.kernel.accessAllowed ? 'block' : 'none';\n",
              "\n",
              "      async function convertToInteractive(key) {\n",
              "        const element = document.querySelector('#df-1c6f1580-8122-48c1-9d59-4926a3dc060b');\n",
              "        const dataTable =\n",
              "          await google.colab.kernel.invokeFunction('convertToInteractive',\n",
              "                                                    [key], {});\n",
              "        if (!dataTable) return;\n",
              "\n",
              "        const docLinkHtml = 'Like what you see? Visit the ' +\n",
              "          '<a target=\"_blank\" href=https://colab.research.google.com/notebooks/data_table.ipynb>data table notebook</a>'\n",
              "          + ' to learn more about interactive tables.';\n",
              "        element.innerHTML = '';\n",
              "        dataTable['output_type'] = 'display_data';\n",
              "        await google.colab.output.renderOutput(dataTable, element);\n",
              "        const docLink = document.createElement('div');\n",
              "        docLink.innerHTML = docLinkHtml;\n",
              "        element.appendChild(docLink);\n",
              "      }\n",
              "    </script>\n",
              "  </div>\n",
              "\n",
              "\n",
              "  <div id=\"id_86206816-150d-4e58-bd5d-de00e53d829b\">\n",
              "    <style>\n",
              "      .colab-df-generate {\n",
              "        background-color: #E8F0FE;\n",
              "        border: none;\n",
              "        border-radius: 50%;\n",
              "        cursor: pointer;\n",
              "        display: none;\n",
              "        fill: #1967D2;\n",
              "        height: 32px;\n",
              "        padding: 0 0 0 0;\n",
              "        width: 32px;\n",
              "      }\n",
              "\n",
              "      .colab-df-generate:hover {\n",
              "        background-color: #E2EBFA;\n",
              "        box-shadow: 0px 1px 2px rgba(60, 64, 67, 0.3), 0px 1px 3px 1px rgba(60, 64, 67, 0.15);\n",
              "        fill: #174EA6;\n",
              "      }\n",
              "\n",
              "      [theme=dark] .colab-df-generate {\n",
              "        background-color: #3B4455;\n",
              "        fill: #D2E3FC;\n",
              "      }\n",
              "\n",
              "      [theme=dark] .colab-df-generate:hover {\n",
              "        background-color: #434B5C;\n",
              "        box-shadow: 0px 1px 3px 1px rgba(0, 0, 0, 0.15);\n",
              "        filter: drop-shadow(0px 1px 2px rgba(0, 0, 0, 0.3));\n",
              "        fill: #FFFFFF;\n",
              "      }\n",
              "    </style>\n",
              "    <button class=\"colab-df-generate\" onclick=\"generateWithVariable('df1')\"\n",
              "            title=\"Generate code using this dataframe.\"\n",
              "            style=\"display:none;\">\n",
              "\n",
              "  <svg xmlns=\"http://www.w3.org/2000/svg\" height=\"24px\"viewBox=\"0 0 24 24\"\n",
              "       width=\"24px\">\n",
              "    <path d=\"M7,19H8.4L18.45,9,17,7.55,7,17.6ZM5,21V16.75L18.45,3.32a2,2,0,0,1,2.83,0l1.4,1.43a1.91,1.91,0,0,1,.58,1.4,1.91,1.91,0,0,1-.58,1.4L9.25,21ZM18.45,9,17,7.55Zm-12,3A5.31,5.31,0,0,0,4.9,8.1,5.31,5.31,0,0,0,1,6.5,5.31,5.31,0,0,0,4.9,4.9,5.31,5.31,0,0,0,6.5,1,5.31,5.31,0,0,0,8.1,4.9,5.31,5.31,0,0,0,12,6.5,5.46,5.46,0,0,0,6.5,12Z\"/>\n",
              "  </svg>\n",
              "    </button>\n",
              "    <script>\n",
              "      (() => {\n",
              "      const buttonEl =\n",
              "        document.querySelector('#id_86206816-150d-4e58-bd5d-de00e53d829b button.colab-df-generate');\n",
              "      buttonEl.style.display =\n",
              "        google.colab.kernel.accessAllowed ? 'block' : 'none';\n",
              "\n",
              "      buttonEl.onclick = () => {\n",
              "        google.colab.notebook.generateWithVariable('df1');\n",
              "      }\n",
              "      })();\n",
              "    </script>\n",
              "  </div>\n",
              "\n",
              "    </div>\n",
              "  </div>\n"
            ],
            "application/vnd.google.colaboratory.intrinsic+json": {
              "type": "dataframe",
              "variable_name": "df1",
              "repr_error": "Out of range float values are not JSON compliant: nan"
            }
          },
          "metadata": {},
          "execution_count": 116
        }
      ]
    },
    {
      "cell_type": "code",
      "source": [],
      "metadata": {
        "id": "UMXn92MQitMs"
      },
      "execution_count": null,
      "outputs": []
    }
  ]
}